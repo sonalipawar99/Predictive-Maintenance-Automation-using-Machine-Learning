{
 "cells": [
  {
   "cell_type": "markdown",
   "id": "9c836e47-9589-468c-b38e-9644bba148ac",
   "metadata": {
    "jp-MarkdownHeadingCollapsed": true
   },
   "source": [
    "## sonali vishal pawar batch =360\n",
    "## Innomatics reserch labs:online batch\n",
    "## Dataset link:https://www.kaggle.com/datasets/stratographics/predictive-maintenance-equipment-dataset-for-ml\n",
    "## Project Title:Predictive Maintenance Automation using Machine Learning\n",
    "## Project Domain: Industrial Predictive Analytics"
   ]
  },
  {
   "cell_type": "markdown",
   "id": "3b9c5784-49bc-4dce-ba38-4af1e4b6a7ad",
   "metadata": {},
   "source": [
    "# Machine Learning Project: Predictive Maintenance (Equipment Dataset)\n",
    "## 1. Import Libraries"
   ]
  },
  {
   "cell_type": "code",
   "execution_count": 3,
   "id": "5e7d3aa4-40db-4608-9463-025e8acc9f51",
   "metadata": {},
   "outputs": [
    {
     "name": "stdout",
     "output_type": "stream",
     "text": [
      "C:\\Users\\hp\\Desktop\n"
     ]
    }
   ],
   "source": [
    "import pandas as pd\n",
    "import numpy as np\n",
    "import matplotlib.pyplot as plt\n",
    "import seaborn as sns\n",
    "from sklearn.preprocessing import LabelEncoder, StandardScaler\n",
    "from sklearn.model_selection import train_test_split, cross_val_score\n",
    "from sklearn.preprocessing import StandardScaler\n",
    "from sklearn.metrics import accuracy_score, confusion_matrix, classification_report\n",
    "from sklearn.linear_model import LogisticRegression\n",
    "from sklearn.ensemble import RandomForestClassifier, GradientBoostingClassifier\n",
    "from sklearn.preprocessing import LabelEncoder, OneHotEncoder, StandardScaler\n",
    "\n",
    "import os\n",
    "print(os.getcwd())\n"
   ]
  },
  {
   "cell_type": "code",
   "execution_count": 4,
   "id": "f4a649f6-c530-4a0c-896d-199ee9df5a7e",
   "metadata": {},
   "outputs": [
    {
     "name": "stdout",
     "output_type": "stream",
     "text": [
      "Path to dataset files: C:\\Users\\hp\\.cache\\kagglehub\\datasets\\stratographics\\predictive-maintenance-equipment-dataset-for-ml\\versions\\2\n"
     ]
    }
   ],
   "source": [
    "import kagglehub\n",
    "\n",
    "# Download latest version\n",
    "path = kagglehub.dataset_download(\"stratographics/predictive-maintenance-equipment-dataset-for-ml\")\n",
    "\n",
    "print(\"Path to dataset files:\", path)"
   ]
  },
  {
   "cell_type": "markdown",
   "id": "1647296b-34c0-4d04-b10f-b19d012a8c66",
   "metadata": {},
   "source": [
    "## Load Dataset"
   ]
  },
  {
   "cell_type": "code",
   "execution_count": 5,
   "id": "8a832f1e-f21c-4b1d-acc1-73b594a913fc",
   "metadata": {},
   "outputs": [
    {
     "data": {
      "text/html": [
       "<div>\n",
       "<style scoped>\n",
       "    .dataframe tbody tr th:only-of-type {\n",
       "        vertical-align: middle;\n",
       "    }\n",
       "\n",
       "    .dataframe tbody tr th {\n",
       "        vertical-align: top;\n",
       "    }\n",
       "\n",
       "    .dataframe thead th {\n",
       "        text-align: right;\n",
       "    }\n",
       "</style>\n",
       "<table border=\"1\" class=\"dataframe\">\n",
       "  <thead>\n",
       "    <tr style=\"text-align: right;\">\n",
       "      <th></th>\n",
       "      <th>UID</th>\n",
       "      <th>ProductType</th>\n",
       "      <th>Humidity</th>\n",
       "      <th>Temperature</th>\n",
       "      <th>Age</th>\n",
       "      <th>Quantity</th>\n",
       "      <th>MTTF</th>\n",
       "    </tr>\n",
       "  </thead>\n",
       "  <tbody>\n",
       "    <tr>\n",
       "      <th>0</th>\n",
       "      <td>1</td>\n",
       "      <td>Extruder</td>\n",
       "      <td>5.88</td>\n",
       "      <td>66.17</td>\n",
       "      <td>13</td>\n",
       "      <td>39764</td>\n",
       "      <td>69</td>\n",
       "    </tr>\n",
       "    <tr>\n",
       "      <th>1</th>\n",
       "      <td>2</td>\n",
       "      <td>Pressure Cutter</td>\n",
       "      <td>42.76</td>\n",
       "      <td>40.29</td>\n",
       "      <td>4</td>\n",
       "      <td>45181</td>\n",
       "      <td>532</td>\n",
       "    </tr>\n",
       "    <tr>\n",
       "      <th>2</th>\n",
       "      <td>3</td>\n",
       "      <td>Extruder</td>\n",
       "      <td>76.62</td>\n",
       "      <td>52.08</td>\n",
       "      <td>4</td>\n",
       "      <td>70397</td>\n",
       "      <td>93</td>\n",
       "    </tr>\n",
       "    <tr>\n",
       "      <th>3</th>\n",
       "      <td>4</td>\n",
       "      <td>Pump</td>\n",
       "      <td>45.91</td>\n",
       "      <td>90.26</td>\n",
       "      <td>14</td>\n",
       "      <td>49470</td>\n",
       "      <td>183</td>\n",
       "    </tr>\n",
       "    <tr>\n",
       "      <th>4</th>\n",
       "      <td>5</td>\n",
       "      <td>Gauge Machine</td>\n",
       "      <td>78.87</td>\n",
       "      <td>58.56</td>\n",
       "      <td>12</td>\n",
       "      <td>45145</td>\n",
       "      <td>447</td>\n",
       "    </tr>\n",
       "    <tr>\n",
       "      <th>...</th>\n",
       "      <td>...</td>\n",
       "      <td>...</td>\n",
       "      <td>...</td>\n",
       "      <td>...</td>\n",
       "      <td>...</td>\n",
       "      <td>...</td>\n",
       "      <td>...</td>\n",
       "    </tr>\n",
       "    <tr>\n",
       "      <th>4995</th>\n",
       "      <td>4996</td>\n",
       "      <td>Pump</td>\n",
       "      <td>44.64</td>\n",
       "      <td>42.75</td>\n",
       "      <td>12</td>\n",
       "      <td>55700</td>\n",
       "      <td>340</td>\n",
       "    </tr>\n",
       "    <tr>\n",
       "      <th>4996</th>\n",
       "      <td>4997</td>\n",
       "      <td>Extruder</td>\n",
       "      <td>24.88</td>\n",
       "      <td>94.14</td>\n",
       "      <td>9</td>\n",
       "      <td>54351</td>\n",
       "      <td>284</td>\n",
       "    </tr>\n",
       "    <tr>\n",
       "      <th>4997</th>\n",
       "      <td>4998</td>\n",
       "      <td>Pump</td>\n",
       "      <td>78.37</td>\n",
       "      <td>62.41</td>\n",
       "      <td>3</td>\n",
       "      <td>27798</td>\n",
       "      <td>216</td>\n",
       "    </tr>\n",
       "    <tr>\n",
       "      <th>4998</th>\n",
       "      <td>4999</td>\n",
       "      <td>Pressure Cutter</td>\n",
       "      <td>17.38</td>\n",
       "      <td>87.38</td>\n",
       "      <td>15</td>\n",
       "      <td>71903</td>\n",
       "      <td>91</td>\n",
       "    </tr>\n",
       "    <tr>\n",
       "      <th>4999</th>\n",
       "      <td>5000</td>\n",
       "      <td>Pressure Cutter</td>\n",
       "      <td>89.82</td>\n",
       "      <td>52.86</td>\n",
       "      <td>12</td>\n",
       "      <td>46193</td>\n",
       "      <td>275</td>\n",
       "    </tr>\n",
       "  </tbody>\n",
       "</table>\n",
       "<p>5000 rows × 7 columns</p>\n",
       "</div>"
      ],
      "text/plain": [
       "       UID      ProductType  Humidity  Temperature  Age  Quantity  MTTF \n",
       "0        1         Extruder      5.88        66.17   13     39764     69\n",
       "1        2  Pressure Cutter     42.76        40.29    4     45181    532\n",
       "2        3         Extruder     76.62        52.08    4     70397     93\n",
       "3        4             Pump     45.91        90.26   14     49470    183\n",
       "4        5    Gauge Machine     78.87        58.56   12     45145    447\n",
       "...    ...              ...       ...          ...  ...       ...    ...\n",
       "4995  4996             Pump     44.64        42.75   12     55700    340\n",
       "4996  4997         Extruder     24.88        94.14    9     54351    284\n",
       "4997  4998             Pump     78.37        62.41    3     27798    216\n",
       "4998  4999  Pressure Cutter     17.38        87.38   15     71903     91\n",
       "4999  5000  Pressure Cutter     89.82        52.86   12     46193    275\n",
       "\n",
       "[5000 rows x 7 columns]"
      ]
     },
     "execution_count": 5,
     "metadata": {},
     "output_type": "execute_result"
    }
   ],
   "source": [
    "df = pd.read_excel(r'C:/Users/hp/Downloads/PM DATA Training.xlsx')\n",
    "df"
   ]
  },
  {
   "cell_type": "markdown",
   "id": "ae985ec1-e9f8-4887-9196-9b54263d1b78",
   "metadata": {},
   "source": [
    "## Problem Statement"
   ]
  },
  {
   "cell_type": "markdown",
   "id": "1d39c10c-533b-42e1-bd29-5ab9ba6016a9",
   "metadata": {},
   "source": [
    "- In manufacturing/automation systems, machines often fail unexpectedly, leading to downtime and financial loss. Predictive maintenance uses ML to predict equipment failure before it happens, so maintenance can be scheduled in advance."
   ]
  },
  {
   "cell_type": "markdown",
   "id": "35eca5d9-2db9-48f1-ac99-1308ca2f1425",
   "metadata": {},
   "source": [
    "## Objectives\n",
    "- Automate fault detection in machines using sensor data.\n",
    "- Build a machine learning model to predict whether a machine will fail soon.\n",
    "- Reduce downtime and maintenance costs with intelligent automation."
   ]
  },
  {
   "cell_type": "markdown",
   "id": "784d6b3d-fc58-4069-b0dc-cab56d964378",
   "metadata": {},
   "source": [
    "## Data Preprocessing\n",
    "\n",
    "- Handle missing values\n",
    "- Encode categorical variables\n",
    "- Feature scaling"
   ]
  },
  {
   "cell_type": "code",
   "execution_count": 6,
   "id": "c3568713-e643-40d5-ac8c-5189a338028a",
   "metadata": {},
   "outputs": [
    {
     "name": "stdout",
     "output_type": "stream",
     "text": [
      "<class 'pandas.core.frame.DataFrame'>\n",
      "RangeIndex: 5000 entries, 0 to 4999\n",
      "Data columns (total 7 columns):\n",
      " #   Column       Non-Null Count  Dtype  \n",
      "---  ------       --------------  -----  \n",
      " 0   UID          5000 non-null   int64  \n",
      " 1   ProductType  5000 non-null   object \n",
      " 2   Humidity     5000 non-null   float64\n",
      " 3   Temperature  5000 non-null   float64\n",
      " 4   Age          5000 non-null   int64  \n",
      " 5   Quantity     5000 non-null   int64  \n",
      " 6   MTTF         5000 non-null   int64  \n",
      "dtypes: float64(2), int64(4), object(1)\n",
      "memory usage: 273.6+ KB\n",
      "None\n",
      "               UID     Humidity  Temperature          Age      Quantity  \\\n",
      "count  5000.000000  5000.000000  5000.000000  5000.000000   5000.000000   \n",
      "mean   2500.500000    52.344846    64.537680     8.994600  51222.923000   \n",
      "std    1443.520003    27.617841    17.523957     4.595911  16526.348628   \n",
      "min       1.000000     5.000000    35.010000     1.000000  23007.000000   \n",
      "25%    1250.750000    28.372500    49.537500     5.000000  36737.000000   \n",
      "50%    2500.500000    52.310000    64.395000     9.000000  51061.000000   \n",
      "75%    3750.250000    76.580000    79.810000    13.000000  65559.500000   \n",
      "max    5000.000000    99.980000    95.000000    17.000000  79995.000000   \n",
      "\n",
      "            MTTF   \n",
      "count  5000.00000  \n",
      "mean    316.26000  \n",
      "std     155.19153  \n",
      "min      50.00000  \n",
      "25%     180.00000  \n",
      "50%     315.00000  \n",
      "75%     453.00000  \n",
      "max     585.00000  \n",
      "UID            0\n",
      "ProductType    0\n",
      "Humidity       0\n",
      "Temperature    0\n",
      "Age            0\n",
      "Quantity       0\n",
      "MTTF           0\n",
      "dtype: int64\n"
     ]
    }
   ],
   "source": [
    "print(df.info())\n",
    "print(df.describe())\n",
    "print(df.isnull().sum())"
   ]
  },
  {
   "cell_type": "code",
   "execution_count": 7,
   "id": "b0893de8-f12c-4c23-a106-9ef6b14b46a6",
   "metadata": {},
   "outputs": [
    {
     "data": {
      "text/plain": [
       "(5000, 7)"
      ]
     },
     "execution_count": 7,
     "metadata": {},
     "output_type": "execute_result"
    }
   ],
   "source": [
    "df.shape"
   ]
  },
  {
   "cell_type": "code",
   "execution_count": 8,
   "id": "ee81c28f-7850-4ea4-bc04-d882c29071a7",
   "metadata": {},
   "outputs": [
    {
     "name": "stdout",
     "output_type": "stream",
     "text": [
      "Columns: ['UID', 'ProductType', 'Humidity', 'Temperature', 'Age', 'Quantity', 'MTTF ']\n"
     ]
    }
   ],
   "source": [
    "target_col = \"Failure\"   \n",
    "\n",
    "print(\"Columns:\", df.columns.tolist())"
   ]
  },
  {
   "cell_type": "code",
   "execution_count": 9,
   "id": "d80dea3a-8274-4955-9423-bde2e344ff8c",
   "metadata": {},
   "outputs": [
    {
     "name": "stdout",
     "output_type": "stream",
     "text": [
      "   MTTF  Failure\n",
      "0    69        0\n",
      "1   532        0\n",
      "2    93        0\n",
      "3   183        0\n",
      "4   447        0\n",
      "5   479        0\n",
      "6   541        0\n",
      "7   352        0\n",
      "8   306        0\n",
      "9   173        0\n"
     ]
    }
   ],
   "source": [
    "# Strip column names \n",
    "df.columns = df.columns.str.strip()\n",
    "\n",
    "df[\"Failure\"] = (df[\"MTTF\"] < 50).astype(int)\n",
    "\n",
    "print(df[[\"MTTF\", \"Failure\"]].head(10))\n"
   ]
  },
  {
   "cell_type": "code",
   "execution_count": 10,
   "id": "3f09efdb-31f6-4cbf-8c4f-e1507b5e750a",
   "metadata": {},
   "outputs": [
    {
     "name": "stdout",
     "output_type": "stream",
     "text": [
      "Missing values:\n",
      " UID            0\n",
      "ProductType    0\n",
      "Humidity       0\n",
      "Temperature    0\n",
      "Age            0\n",
      "Quantity       0\n",
      "MTTF           0\n",
      "Failure        0\n",
      "dtype: int64\n"
     ]
    }
   ],
   "source": [
    "# Check missing values\n",
    "print(\"Missing values:\\n\", df.isnull().sum())"
   ]
  },
  {
   "cell_type": "code",
   "execution_count": 11,
   "id": "e85c16bc-d8b6-4d17-a721-a874d45a1fb8",
   "metadata": {},
   "outputs": [
    {
     "name": "stdout",
     "output_type": "stream",
     "text": [
      "\n",
      "Summary Statistics:\n",
      "               UID     Humidity  Temperature          Age      Quantity  \\\n",
      "count  5000.000000  5000.000000  5000.000000  5000.000000   5000.000000   \n",
      "mean   2500.500000    52.344846    64.537680     8.994600  51222.923000   \n",
      "std    1443.520003    27.617841    17.523957     4.595911  16526.348628   \n",
      "min       1.000000     5.000000    35.010000     1.000000  23007.000000   \n",
      "25%    1250.750000    28.372500    49.537500     5.000000  36737.000000   \n",
      "50%    2500.500000    52.310000    64.395000     9.000000  51061.000000   \n",
      "75%    3750.250000    76.580000    79.810000    13.000000  65559.500000   \n",
      "max    5000.000000    99.980000    95.000000    17.000000  79995.000000   \n",
      "\n",
      "             MTTF  Failure  \n",
      "count  5000.00000   5000.0  \n",
      "mean    316.26000      0.0  \n",
      "std     155.19153      0.0  \n",
      "min      50.00000      0.0  \n",
      "25%     180.00000      0.0  \n",
      "50%     315.00000      0.0  \n",
      "75%     453.00000      0.0  \n",
      "max     585.00000      0.0  \n"
     ]
    }
   ],
   "source": [
    "print(\"\\nSummary Statistics:\")\n",
    "print(df.describe())"
   ]
  },
  {
   "cell_type": "code",
   "execution_count": 12,
   "id": "af71ff66-f6c8-4a4e-b0b6-6a1edb70847e",
   "metadata": {},
   "outputs": [
    {
     "data": {
      "text/html": [
       "<div>\n",
       "<style scoped>\n",
       "    .dataframe tbody tr th:only-of-type {\n",
       "        vertical-align: middle;\n",
       "    }\n",
       "\n",
       "    .dataframe tbody tr th {\n",
       "        vertical-align: top;\n",
       "    }\n",
       "\n",
       "    .dataframe thead th {\n",
       "        text-align: right;\n",
       "    }\n",
       "</style>\n",
       "<table border=\"1\" class=\"dataframe\">\n",
       "  <thead>\n",
       "    <tr style=\"text-align: right;\">\n",
       "      <th></th>\n",
       "      <th>UID</th>\n",
       "      <th>ProductType</th>\n",
       "      <th>Humidity</th>\n",
       "      <th>Temperature</th>\n",
       "      <th>Age</th>\n",
       "      <th>Quantity</th>\n",
       "      <th>MTTF</th>\n",
       "      <th>Failure</th>\n",
       "    </tr>\n",
       "  </thead>\n",
       "  <tbody>\n",
       "    <tr>\n",
       "      <th>0</th>\n",
       "      <td>1</td>\n",
       "      <td>Extruder</td>\n",
       "      <td>5.88</td>\n",
       "      <td>66.17</td>\n",
       "      <td>13</td>\n",
       "      <td>39764</td>\n",
       "      <td>69</td>\n",
       "      <td>0</td>\n",
       "    </tr>\n",
       "    <tr>\n",
       "      <th>1</th>\n",
       "      <td>2</td>\n",
       "      <td>Pressure Cutter</td>\n",
       "      <td>42.76</td>\n",
       "      <td>40.29</td>\n",
       "      <td>4</td>\n",
       "      <td>45181</td>\n",
       "      <td>532</td>\n",
       "      <td>0</td>\n",
       "    </tr>\n",
       "    <tr>\n",
       "      <th>2</th>\n",
       "      <td>3</td>\n",
       "      <td>Extruder</td>\n",
       "      <td>76.62</td>\n",
       "      <td>52.08</td>\n",
       "      <td>4</td>\n",
       "      <td>70397</td>\n",
       "      <td>93</td>\n",
       "      <td>0</td>\n",
       "    </tr>\n",
       "    <tr>\n",
       "      <th>3</th>\n",
       "      <td>4</td>\n",
       "      <td>Pump</td>\n",
       "      <td>45.91</td>\n",
       "      <td>90.26</td>\n",
       "      <td>14</td>\n",
       "      <td>49470</td>\n",
       "      <td>183</td>\n",
       "      <td>0</td>\n",
       "    </tr>\n",
       "    <tr>\n",
       "      <th>4</th>\n",
       "      <td>5</td>\n",
       "      <td>Gauge Machine</td>\n",
       "      <td>78.87</td>\n",
       "      <td>58.56</td>\n",
       "      <td>12</td>\n",
       "      <td>45145</td>\n",
       "      <td>447</td>\n",
       "      <td>0</td>\n",
       "    </tr>\n",
       "    <tr>\n",
       "      <th>...</th>\n",
       "      <td>...</td>\n",
       "      <td>...</td>\n",
       "      <td>...</td>\n",
       "      <td>...</td>\n",
       "      <td>...</td>\n",
       "      <td>...</td>\n",
       "      <td>...</td>\n",
       "      <td>...</td>\n",
       "    </tr>\n",
       "    <tr>\n",
       "      <th>4995</th>\n",
       "      <td>4996</td>\n",
       "      <td>Pump</td>\n",
       "      <td>44.64</td>\n",
       "      <td>42.75</td>\n",
       "      <td>12</td>\n",
       "      <td>55700</td>\n",
       "      <td>340</td>\n",
       "      <td>0</td>\n",
       "    </tr>\n",
       "    <tr>\n",
       "      <th>4996</th>\n",
       "      <td>4997</td>\n",
       "      <td>Extruder</td>\n",
       "      <td>24.88</td>\n",
       "      <td>94.14</td>\n",
       "      <td>9</td>\n",
       "      <td>54351</td>\n",
       "      <td>284</td>\n",
       "      <td>0</td>\n",
       "    </tr>\n",
       "    <tr>\n",
       "      <th>4997</th>\n",
       "      <td>4998</td>\n",
       "      <td>Pump</td>\n",
       "      <td>78.37</td>\n",
       "      <td>62.41</td>\n",
       "      <td>3</td>\n",
       "      <td>27798</td>\n",
       "      <td>216</td>\n",
       "      <td>0</td>\n",
       "    </tr>\n",
       "    <tr>\n",
       "      <th>4998</th>\n",
       "      <td>4999</td>\n",
       "      <td>Pressure Cutter</td>\n",
       "      <td>17.38</td>\n",
       "      <td>87.38</td>\n",
       "      <td>15</td>\n",
       "      <td>71903</td>\n",
       "      <td>91</td>\n",
       "      <td>0</td>\n",
       "    </tr>\n",
       "    <tr>\n",
       "      <th>4999</th>\n",
       "      <td>5000</td>\n",
       "      <td>Pressure Cutter</td>\n",
       "      <td>89.82</td>\n",
       "      <td>52.86</td>\n",
       "      <td>12</td>\n",
       "      <td>46193</td>\n",
       "      <td>275</td>\n",
       "      <td>0</td>\n",
       "    </tr>\n",
       "  </tbody>\n",
       "</table>\n",
       "<p>5000 rows × 8 columns</p>\n",
       "</div>"
      ],
      "text/plain": [
       "       UID      ProductType  Humidity  Temperature  Age  Quantity  MTTF  \\\n",
       "0        1         Extruder      5.88        66.17   13     39764    69   \n",
       "1        2  Pressure Cutter     42.76        40.29    4     45181   532   \n",
       "2        3         Extruder     76.62        52.08    4     70397    93   \n",
       "3        4             Pump     45.91        90.26   14     49470   183   \n",
       "4        5    Gauge Machine     78.87        58.56   12     45145   447   \n",
       "...    ...              ...       ...          ...  ...       ...   ...   \n",
       "4995  4996             Pump     44.64        42.75   12     55700   340   \n",
       "4996  4997         Extruder     24.88        94.14    9     54351   284   \n",
       "4997  4998             Pump     78.37        62.41    3     27798   216   \n",
       "4998  4999  Pressure Cutter     17.38        87.38   15     71903    91   \n",
       "4999  5000  Pressure Cutter     89.82        52.86   12     46193   275   \n",
       "\n",
       "      Failure  \n",
       "0           0  \n",
       "1           0  \n",
       "2           0  \n",
       "3           0  \n",
       "4           0  \n",
       "...       ...  \n",
       "4995        0  \n",
       "4996        0  \n",
       "4997        0  \n",
       "4998        0  \n",
       "4999        0  \n",
       "\n",
       "[5000 rows x 8 columns]"
      ]
     },
     "execution_count": 12,
     "metadata": {},
     "output_type": "execute_result"
    }
   ],
   "source": [
    " df.drop_duplicates()"
   ]
  },
  {
   "cell_type": "code",
   "execution_count": 13,
   "id": "30f70532-4bfe-43c8-a50c-6c68edf91fb0",
   "metadata": {},
   "outputs": [
    {
     "data": {
      "text/html": [
       "<div>\n",
       "<style scoped>\n",
       "    .dataframe tbody tr th:only-of-type {\n",
       "        vertical-align: middle;\n",
       "    }\n",
       "\n",
       "    .dataframe tbody tr th {\n",
       "        vertical-align: top;\n",
       "    }\n",
       "\n",
       "    .dataframe thead th {\n",
       "        text-align: right;\n",
       "    }\n",
       "</style>\n",
       "<table border=\"1\" class=\"dataframe\">\n",
       "  <thead>\n",
       "    <tr style=\"text-align: right;\">\n",
       "      <th></th>\n",
       "      <th>UID</th>\n",
       "      <th>Humidity</th>\n",
       "      <th>Temperature</th>\n",
       "      <th>Age</th>\n",
       "      <th>Quantity</th>\n",
       "      <th>MTTF</th>\n",
       "      <th>Failure</th>\n",
       "      <th>ProductType_Extruder</th>\n",
       "      <th>ProductType_Gauge Machine</th>\n",
       "      <th>ProductType_Pressure Cutter</th>\n",
       "      <th>ProductType_Pump</th>\n",
       "    </tr>\n",
       "  </thead>\n",
       "  <tbody>\n",
       "    <tr>\n",
       "      <th>0</th>\n",
       "      <td>1</td>\n",
       "      <td>5.88</td>\n",
       "      <td>66.17</td>\n",
       "      <td>13</td>\n",
       "      <td>39764</td>\n",
       "      <td>69</td>\n",
       "      <td>0</td>\n",
       "      <td>True</td>\n",
       "      <td>False</td>\n",
       "      <td>False</td>\n",
       "      <td>False</td>\n",
       "    </tr>\n",
       "    <tr>\n",
       "      <th>1</th>\n",
       "      <td>2</td>\n",
       "      <td>42.76</td>\n",
       "      <td>40.29</td>\n",
       "      <td>4</td>\n",
       "      <td>45181</td>\n",
       "      <td>532</td>\n",
       "      <td>0</td>\n",
       "      <td>False</td>\n",
       "      <td>False</td>\n",
       "      <td>True</td>\n",
       "      <td>False</td>\n",
       "    </tr>\n",
       "    <tr>\n",
       "      <th>2</th>\n",
       "      <td>3</td>\n",
       "      <td>76.62</td>\n",
       "      <td>52.08</td>\n",
       "      <td>4</td>\n",
       "      <td>70397</td>\n",
       "      <td>93</td>\n",
       "      <td>0</td>\n",
       "      <td>True</td>\n",
       "      <td>False</td>\n",
       "      <td>False</td>\n",
       "      <td>False</td>\n",
       "    </tr>\n",
       "    <tr>\n",
       "      <th>3</th>\n",
       "      <td>4</td>\n",
       "      <td>45.91</td>\n",
       "      <td>90.26</td>\n",
       "      <td>14</td>\n",
       "      <td>49470</td>\n",
       "      <td>183</td>\n",
       "      <td>0</td>\n",
       "      <td>False</td>\n",
       "      <td>False</td>\n",
       "      <td>False</td>\n",
       "      <td>True</td>\n",
       "    </tr>\n",
       "    <tr>\n",
       "      <th>4</th>\n",
       "      <td>5</td>\n",
       "      <td>78.87</td>\n",
       "      <td>58.56</td>\n",
       "      <td>12</td>\n",
       "      <td>45145</td>\n",
       "      <td>447</td>\n",
       "      <td>0</td>\n",
       "      <td>False</td>\n",
       "      <td>True</td>\n",
       "      <td>False</td>\n",
       "      <td>False</td>\n",
       "    </tr>\n",
       "    <tr>\n",
       "      <th>...</th>\n",
       "      <td>...</td>\n",
       "      <td>...</td>\n",
       "      <td>...</td>\n",
       "      <td>...</td>\n",
       "      <td>...</td>\n",
       "      <td>...</td>\n",
       "      <td>...</td>\n",
       "      <td>...</td>\n",
       "      <td>...</td>\n",
       "      <td>...</td>\n",
       "      <td>...</td>\n",
       "    </tr>\n",
       "    <tr>\n",
       "      <th>4995</th>\n",
       "      <td>4996</td>\n",
       "      <td>44.64</td>\n",
       "      <td>42.75</td>\n",
       "      <td>12</td>\n",
       "      <td>55700</td>\n",
       "      <td>340</td>\n",
       "      <td>0</td>\n",
       "      <td>False</td>\n",
       "      <td>False</td>\n",
       "      <td>False</td>\n",
       "      <td>True</td>\n",
       "    </tr>\n",
       "    <tr>\n",
       "      <th>4996</th>\n",
       "      <td>4997</td>\n",
       "      <td>24.88</td>\n",
       "      <td>94.14</td>\n",
       "      <td>9</td>\n",
       "      <td>54351</td>\n",
       "      <td>284</td>\n",
       "      <td>0</td>\n",
       "      <td>True</td>\n",
       "      <td>False</td>\n",
       "      <td>False</td>\n",
       "      <td>False</td>\n",
       "    </tr>\n",
       "    <tr>\n",
       "      <th>4997</th>\n",
       "      <td>4998</td>\n",
       "      <td>78.37</td>\n",
       "      <td>62.41</td>\n",
       "      <td>3</td>\n",
       "      <td>27798</td>\n",
       "      <td>216</td>\n",
       "      <td>0</td>\n",
       "      <td>False</td>\n",
       "      <td>False</td>\n",
       "      <td>False</td>\n",
       "      <td>True</td>\n",
       "    </tr>\n",
       "    <tr>\n",
       "      <th>4998</th>\n",
       "      <td>4999</td>\n",
       "      <td>17.38</td>\n",
       "      <td>87.38</td>\n",
       "      <td>15</td>\n",
       "      <td>71903</td>\n",
       "      <td>91</td>\n",
       "      <td>0</td>\n",
       "      <td>False</td>\n",
       "      <td>False</td>\n",
       "      <td>True</td>\n",
       "      <td>False</td>\n",
       "    </tr>\n",
       "    <tr>\n",
       "      <th>4999</th>\n",
       "      <td>5000</td>\n",
       "      <td>89.82</td>\n",
       "      <td>52.86</td>\n",
       "      <td>12</td>\n",
       "      <td>46193</td>\n",
       "      <td>275</td>\n",
       "      <td>0</td>\n",
       "      <td>False</td>\n",
       "      <td>False</td>\n",
       "      <td>True</td>\n",
       "      <td>False</td>\n",
       "    </tr>\n",
       "  </tbody>\n",
       "</table>\n",
       "<p>5000 rows × 11 columns</p>\n",
       "</div>"
      ],
      "text/plain": [
       "       UID  Humidity  Temperature  Age  Quantity  MTTF  Failure  \\\n",
       "0        1      5.88        66.17   13     39764    69        0   \n",
       "1        2     42.76        40.29    4     45181   532        0   \n",
       "2        3     76.62        52.08    4     70397    93        0   \n",
       "3        4     45.91        90.26   14     49470   183        0   \n",
       "4        5     78.87        58.56   12     45145   447        0   \n",
       "...    ...       ...          ...  ...       ...   ...      ...   \n",
       "4995  4996     44.64        42.75   12     55700   340        0   \n",
       "4996  4997     24.88        94.14    9     54351   284        0   \n",
       "4997  4998     78.37        62.41    3     27798   216        0   \n",
       "4998  4999     17.38        87.38   15     71903    91        0   \n",
       "4999  5000     89.82        52.86   12     46193   275        0   \n",
       "\n",
       "      ProductType_Extruder  ProductType_Gauge Machine  \\\n",
       "0                     True                      False   \n",
       "1                    False                      False   \n",
       "2                     True                      False   \n",
       "3                    False                      False   \n",
       "4                    False                       True   \n",
       "...                    ...                        ...   \n",
       "4995                 False                      False   \n",
       "4996                  True                      False   \n",
       "4997                 False                      False   \n",
       "4998                 False                      False   \n",
       "4999                 False                      False   \n",
       "\n",
       "      ProductType_Pressure Cutter  ProductType_Pump  \n",
       "0                           False             False  \n",
       "1                            True             False  \n",
       "2                           False             False  \n",
       "3                           False              True  \n",
       "4                           False             False  \n",
       "...                           ...               ...  \n",
       "4995                        False              True  \n",
       "4996                        False             False  \n",
       "4997                        False              True  \n",
       "4998                         True             False  \n",
       "4999                         True             False  \n",
       "\n",
       "[5000 rows x 11 columns]"
      ]
     },
     "execution_count": 13,
     "metadata": {},
     "output_type": "execute_result"
    }
   ],
   "source": [
    " pd.get_dummies(df, drop_first=True)"
   ]
  },
  {
   "cell_type": "markdown",
   "id": "187d82e9-0600-42e7-aa71-1b4358373ee4",
   "metadata": {},
   "source": [
    "## Outlier Removal"
   ]
  },
  {
   "cell_type": "code",
   "execution_count": 14,
   "id": "61823b98-d7ff-4a69-9285-159e763a76c6",
   "metadata": {},
   "outputs": [
    {
     "name": "stdout",
     "output_type": "stream",
     "text": [
      "Original shape: (5000, 8)\n",
      "After removing outliers: (5000, 8)\n"
     ]
    }
   ],
   "source": [
    "# Identify numeric columns only\n",
    "num_cols = df.select_dtypes(include=np.number).columns\n",
    "\n",
    "# Compute IQR only for numeric data\n",
    "Q1 = df[num_cols].quantile(0.25)\n",
    "Q3 = df[num_cols].quantile(0.75)\n",
    "IQR = Q3 - Q1\n",
    "\n",
    "#  non-outliers (numeric check only)\n",
    "df = df[~((df[num_cols] < (Q1 - 1.5 * IQR)) | (df[num_cols] > (Q3 + 1.5 * IQR))).any(axis=1)]\n",
    "\n",
    "print(\"Original shape:\", df.shape)\n",
    "print(\"After removing outliers:\", df.shape)\n"
   ]
  },
  {
   "cell_type": "markdown",
   "id": "24ce7d7e-4532-4d46-9f0b-d020974884ac",
   "metadata": {},
   "source": [
    "# Exploratory Data Analysis (EDA)"
   ]
  },
  {
   "cell_type": "code",
   "execution_count": 15,
   "id": "c497f2be-4d16-4607-a810-976c862048f6",
   "metadata": {},
   "outputs": [],
   "source": [
    "# Clean column names (remove trailing spaces)\n",
    "df.columns = [col.strip() for col in df.columns]"
   ]
  },
  {
   "cell_type": "code",
   "execution_count": 16,
   "id": "76823062-d3f0-4610-a804-f2b58edef0ea",
   "metadata": {},
   "outputs": [
    {
     "name": "stdout",
     "output_type": "stream",
     "text": [
      "               UID     Humidity  Temperature          Age      Quantity  \\\n",
      "count  5000.000000  5000.000000  5000.000000  5000.000000   5000.000000   \n",
      "mean   2500.500000    52.344846    64.537680     8.994600  51222.923000   \n",
      "std    1443.520003    27.617841    17.523957     4.595911  16526.348628   \n",
      "min       1.000000     5.000000    35.010000     1.000000  23007.000000   \n",
      "25%    1250.750000    28.372500    49.537500     5.000000  36737.000000   \n",
      "50%    2500.500000    52.310000    64.395000     9.000000  51061.000000   \n",
      "75%    3750.250000    76.580000    79.810000    13.000000  65559.500000   \n",
      "max    5000.000000    99.980000    95.000000    17.000000  79995.000000   \n",
      "\n",
      "             MTTF  Failure  \n",
      "count  5000.00000   5000.0  \n",
      "mean    316.26000      0.0  \n",
      "std     155.19153      0.0  \n",
      "min      50.00000      0.0  \n",
      "25%     180.00000      0.0  \n",
      "50%     315.00000      0.0  \n",
      "75%     453.00000      0.0  \n",
      "max     585.00000      0.0  \n"
     ]
    }
   ],
   "source": [
    "print(df.describe())"
   ]
  },
  {
   "cell_type": "code",
   "execution_count": 17,
   "id": "4ffafd92-d9b7-4687-930c-53cade4400cd",
   "metadata": {},
   "outputs": [
    {
     "name": "stdout",
     "output_type": "stream",
     "text": [
      "Skewness:\n",
      " UID            0.000000\n",
      "Humidity      -0.001021\n",
      "Temperature    0.025703\n",
      "Age            0.005413\n",
      "Quantity       0.036745\n",
      "MTTF           0.013301\n",
      "Failure        0.000000\n",
      "dtype: float64\n",
      "Kurtosis:\n",
      " UID           -1.200000\n",
      "Humidity      -1.222073\n",
      "Temperature   -1.221224\n",
      "Age           -1.150697\n",
      "Quantity      -1.207828\n",
      "MTTF          -1.216146\n",
      "Failure        0.000000\n",
      "dtype: float64\n"
     ]
    }
   ],
   "source": [
    "# Skewness & Kurtosis\n",
    "print(\"Skewness:\\n\", df.skew(numeric_only=True))\n",
    "print(\"Kurtosis:\\n\", df.kurt(numeric_only=True))\n"
   ]
  },
  {
   "cell_type": "markdown",
   "id": "7ec90f7a-9bc9-42b8-a441-0bba26763bfd",
   "metadata": {},
   "source": [
    "# Correlation heatmap"
   ]
  },
  {
   "cell_type": "code",
   "execution_count": 18,
   "id": "41c01abe-df61-4f94-aeec-d8d1934dcc73",
   "metadata": {},
   "outputs": [
    {
     "data": {
      "image/png": "[encoded data removed]",
      "text/plain": [
       "<Figure size 1000x600 with 2 Axes>"
      ]
     },
     "metadata": {},
     "output_type": "display_data"
    }
   ],
   "source": [
    "\n",
    "plt.figure(figsize=(10,6))\n",
    "sns.heatmap(df.corr(numeric_only=True), annot=True, cmap=\"coolwarm\")\n",
    "plt.title(\"Correlation Heatmap\")\n",
    "plt.show()\n"
   ]
  },
  {
   "cell_type": "markdown",
   "id": "0a83674e-f271-413b-b0c2-dd941e00f520",
   "metadata": {},
   "source": [
    "# Histograms for numerical features"
   ]
  },
  {
   "cell_type": "code",
   "execution_count": 19,
   "id": "33b237ee-5d6e-4681-96fb-e424f111053a",
   "metadata": {},
   "outputs": [
    {
     "data": {
      "image/png": "[encoded data removed]",
      "text/plain": [
       "<Figure size 1500x1000 with 9 Axes>"
      ]
     },
     "metadata": {},
     "output_type": "display_data"
    }
   ],
   "source": [
    "# Histograms\n",
    "df[num_cols].hist(bins=20, figsize=(15,10))\n",
    "plt.suptitle(\"Histogram of Numerical Features\")\n",
    "plt.show()\n"
   ]
  },
  {
   "cell_type": "code",
   "execution_count": 20,
   "id": "887cd792-9d56-45be-b513-7966867c1bdf",
   "metadata": {},
   "outputs": [
    {
     "data": {
      "image/png": "[encoded data removed]",
      "text/plain": [
       "<Figure size 1500x1000 with 5 Axes>"
      ]
     },
     "metadata": {},
     "output_type": "display_data"
    }
   ],
   "source": [
    "num_cols = ['Humidity', 'Temperature', 'Age', 'Quantity', 'MTTF']\n",
    "plt.figure(figsize=(15, 10))\n",
    "for i, col in enumerate(num_cols, 1):\n",
    "    plt.subplot(2, 3, i)\n",
    "    sns.histplot(df[col], kde=True, bins=30)\n",
    "    plt.title(f'Distribution of {col}')\n",
    "plt.tight_layout()\n",
    "plt.show()"
   ]
  },
  {
   "cell_type": "markdown",
   "id": "c3e3e041-0bf1-416e-a467-d3dd92c191ff",
   "metadata": {},
   "source": [
    "## Correlation heatmap for numerical features"
   ]
  },
  {
   "cell_type": "code",
   "execution_count": 21,
   "id": "b6e4edc1-0949-43fe-a53b-a0c80388a9fb",
   "metadata": {},
   "outputs": [
    {
     "data": {
      "image/png": "[encoded data removed]",
      "text/plain": [
       "<Figure size 1000x800 with 2 Axes>"
      ]
     },
     "metadata": {},
     "output_type": "display_data"
    }
   ],
   "source": [
    "plt.figure(figsize=(10, 8))\n",
    "corr = df[num_cols].corr()\n",
    "sns.heatmap(corr, annot=True, cmap='coolwarm', fmt='.2f', linewidths=0.5)\n",
    "plt.title('Correlation Heatmap')\n",
    "plt.show()"
   ]
  },
  {
   "cell_type": "markdown",
   "id": "3f7744a0-70ce-415b-978c-e47741b45673",
   "metadata": {},
   "source": [
    "## Boxplots to detect outliers in numerical features"
   ]
  },
  {
   "cell_type": "code",
   "execution_count": 22,
   "id": "7b8bbb95-20d2-49d9-b789-d960ef81140f",
   "metadata": {},
   "outputs": [
    {
     "data": {
      "image/png": "[encoded data removed]",
      "text/plain": [
       "<Figure size 1500x800 with 5 Axes>"
      ]
     },
     "metadata": {},
     "output_type": "display_data"
    }
   ],
   "source": [
    "plt.figure(figsize=(15, 8))\n",
    "for i, col in enumerate(num_cols, 1):\n",
    "    plt.subplot(1, 5, i)\n",
    "    sns.boxplot(y=df[col])\n",
    "    plt.title(f'Boxplot of {col}')\n",
    "plt.tight_layout()\n",
    "plt.show()\n"
   ]
  },
  {
   "cell_type": "markdown",
   "id": "fd505921-6d62-4fa9-bf9d-d6266d81849d",
   "metadata": {},
   "source": [
    "# Target variable distribution"
   ]
  },
  {
   "cell_type": "code",
   "execution_count": 23,
   "id": "c700b1bd-8f14-4c1d-9ecd-485ab7669709",
   "metadata": {},
   "outputs": [],
   "source": [
    "\n",
    "if \"target\" in df.columns:   # target col replace kar (e.g., 'failure')\n",
    "    sns.countplot(x=\"target\", data=df)\n",
    "    plt.title(\"Target Variable Distribution\")\n",
    "    plt.show()\n"
   ]
  },
  {
   "cell_type": "markdown",
   "id": "20c48a6f-b659-4cf3-82f5-ad8b116d5f62",
   "metadata": {},
   "source": [
    "## Feature Engineering"
   ]
  },
  {
   "cell_type": "code",
   "execution_count": 24,
   "id": "e6032df4-9a9e-47b3-a958-a9364de49e8e",
   "metadata": {},
   "outputs": [
    {
     "name": "stdout",
     "output_type": "stream",
     "text": [
      "Categorical: ['ProductType']\n",
      "Numerical: ['UID', 'Humidity', 'Temperature', 'Age', 'Quantity', 'MTTF', 'Failure']\n"
     ]
    }
   ],
   "source": [
    "# Separate categorical & numerical\n",
    "cat_cols = df.select_dtypes(include=\"object\").columns\n",
    "num_cols = df.select_dtypes(include=np.number).columns\n",
    "print(\"Categorical:\", list(cat_cols))\n",
    "print(\"Numerical:\", list(num_cols))\n"
   ]
  },
  {
   "cell_type": "markdown",
   "id": "928f4ee0-90ae-4cd4-a1b9-c3e394132c80",
   "metadata": {},
   "source": [
    "## Data Preparation/Preprocessing"
   ]
  },
  {
   "cell_type": "code",
   "execution_count": 25,
   "id": "899a4b1c-0901-4d8d-b20b-4fb7f58dc0fd",
   "metadata": {},
   "outputs": [
    {
     "name": "stdout",
     "output_type": "stream",
     "text": [
      "Final dataset shape: (5000, 11)\n"
     ]
    },
    {
     "data": {
      "text/html": [
       "<div>\n",
       "<style scoped>\n",
       "    .dataframe tbody tr th:only-of-type {\n",
       "        vertical-align: middle;\n",
       "    }\n",
       "\n",
       "    .dataframe tbody tr th {\n",
       "        vertical-align: top;\n",
       "    }\n",
       "\n",
       "    .dataframe thead th {\n",
       "        text-align: right;\n",
       "    }\n",
       "</style>\n",
       "<table border=\"1\" class=\"dataframe\">\n",
       "  <thead>\n",
       "    <tr style=\"text-align: right;\">\n",
       "      <th></th>\n",
       "      <th>UID</th>\n",
       "      <th>Humidity</th>\n",
       "      <th>Temperature</th>\n",
       "      <th>Age</th>\n",
       "      <th>Quantity</th>\n",
       "      <th>MTTF</th>\n",
       "      <th>Failure</th>\n",
       "      <th>ProductType_Extruder</th>\n",
       "      <th>ProductType_Gauge Machine</th>\n",
       "      <th>ProductType_Pressure Cutter</th>\n",
       "      <th>ProductType_Pump</th>\n",
       "    </tr>\n",
       "  </thead>\n",
       "  <tbody>\n",
       "    <tr>\n",
       "      <th>0</th>\n",
       "      <td>-1.731704</td>\n",
       "      <td>-1.682590</td>\n",
       "      <td>0.093157</td>\n",
       "      <td>0.871601</td>\n",
       "      <td>-0.693442</td>\n",
       "      <td>-1.593416</td>\n",
       "      <td>0.0</td>\n",
       "      <td>True</td>\n",
       "      <td>False</td>\n",
       "      <td>False</td>\n",
       "      <td>False</td>\n",
       "    </tr>\n",
       "    <tr>\n",
       "      <th>1</th>\n",
       "      <td>-1.731012</td>\n",
       "      <td>-0.347087</td>\n",
       "      <td>-1.383826</td>\n",
       "      <td>-1.086857</td>\n",
       "      <td>-0.365630</td>\n",
       "      <td>1.390292</td>\n",
       "      <td>0.0</td>\n",
       "      <td>False</td>\n",
       "      <td>False</td>\n",
       "      <td>True</td>\n",
       "      <td>False</td>\n",
       "    </tr>\n",
       "    <tr>\n",
       "      <th>2</th>\n",
       "      <td>-1.730319</td>\n",
       "      <td>0.879054</td>\n",
       "      <td>-0.710965</td>\n",
       "      <td>-1.086857</td>\n",
       "      <td>1.160329</td>\n",
       "      <td>-1.438753</td>\n",
       "      <td>0.0</td>\n",
       "      <td>True</td>\n",
       "      <td>False</td>\n",
       "      <td>False</td>\n",
       "      <td>False</td>\n",
       "    </tr>\n",
       "    <tr>\n",
       "      <th>3</th>\n",
       "      <td>-1.729626</td>\n",
       "      <td>-0.233019</td>\n",
       "      <td>1.467984</td>\n",
       "      <td>1.089208</td>\n",
       "      <td>-0.106079</td>\n",
       "      <td>-0.858767</td>\n",
       "      <td>0.0</td>\n",
       "      <td>False</td>\n",
       "      <td>False</td>\n",
       "      <td>False</td>\n",
       "      <td>True</td>\n",
       "    </tr>\n",
       "    <tr>\n",
       "      <th>4</th>\n",
       "      <td>-1.728933</td>\n",
       "      <td>0.960532</td>\n",
       "      <td>-0.341149</td>\n",
       "      <td>0.653995</td>\n",
       "      <td>-0.367808</td>\n",
       "      <td>0.842527</td>\n",
       "      <td>0.0</td>\n",
       "      <td>False</td>\n",
       "      <td>True</td>\n",
       "      <td>False</td>\n",
       "      <td>False</td>\n",
       "    </tr>\n",
       "  </tbody>\n",
       "</table>\n",
       "</div>"
      ],
      "text/plain": [
       "        UID  Humidity  Temperature       Age  Quantity      MTTF  Failure  \\\n",
       "0 -1.731704 -1.682590     0.093157  0.871601 -0.693442 -1.593416      0.0   \n",
       "1 -1.731012 -0.347087    -1.383826 -1.086857 -0.365630  1.390292      0.0   \n",
       "2 -1.730319  0.879054    -0.710965 -1.086857  1.160329 -1.438753      0.0   \n",
       "3 -1.729626 -0.233019     1.467984  1.089208 -0.106079 -0.858767      0.0   \n",
       "4 -1.728933  0.960532    -0.341149  0.653995 -0.367808  0.842527      0.0   \n",
       "\n",
       "   ProductType_Extruder  ProductType_Gauge Machine  \\\n",
       "0                  True                      False   \n",
       "1                 False                      False   \n",
       "2                  True                      False   \n",
       "3                 False                      False   \n",
       "4                 False                       True   \n",
       "\n",
       "   ProductType_Pressure Cutter  ProductType_Pump  \n",
       "0                        False             False  \n",
       "1                         True             False  \n",
       "2                        False             False  \n",
       "3                        False              True  \n",
       "4                        False             False  "
      ]
     },
     "execution_count": 25,
     "metadata": {},
     "output_type": "execute_result"
    }
   ],
   "source": [
    "# Label Encoding for binary categorical features\n",
    "le = LabelEncoder()\n",
    "for col in cat_cols:\n",
    "    if df[col].nunique() == 2:   # binary\n",
    "        df[col] = le.fit_transform(df[col])\n",
    "        \n",
    "# OneHot Encoding for multi-category\n",
    "df_encoded = pd.get_dummies(df, columns=cat_cols, drop_first=True)\n",
    "\n",
    "# Scaling numerical features\n",
    "scaler = StandardScaler()\n",
    "df_encoded[num_cols] = scaler.fit_transform(df_encoded[num_cols])\n",
    "\n",
    "# Example of new derived feature\n",
    "if {\"temperature\", \"pressure\"} <= set(df_encoded.columns):\n",
    "    df_encoded[\"temp_pressure_ratio\"] = df_encoded[\"temperature\"] / (df_encoded[\"pressure\"]+1e-5)\n",
    "\n",
    "print(\"Final dataset shape:\", df_encoded.shape)\n",
    "df_encoded.head()\n",
    "        \n"
   ]
  },
  {
   "cell_type": "code",
   "execution_count": 26,
   "id": "b5cf5cfb-e98d-43e3-83b8-44dae96abfda",
   "metadata": {},
   "outputs": [
    {
     "data": {
      "text/html": [
       "<div>\n",
       "<style scoped>\n",
       "    .dataframe tbody tr th:only-of-type {\n",
       "        vertical-align: middle;\n",
       "    }\n",
       "\n",
       "    .dataframe tbody tr th {\n",
       "        vertical-align: top;\n",
       "    }\n",
       "\n",
       "    .dataframe thead th {\n",
       "        text-align: right;\n",
       "    }\n",
       "</style>\n",
       "<table border=\"1\" class=\"dataframe\">\n",
       "  <thead>\n",
       "    <tr style=\"text-align: right;\">\n",
       "      <th></th>\n",
       "      <th>UID</th>\n",
       "      <th>ProductType</th>\n",
       "      <th>Humidity</th>\n",
       "      <th>Temperature</th>\n",
       "      <th>Age</th>\n",
       "      <th>Quantity</th>\n",
       "      <th>MTTF</th>\n",
       "      <th>Failure</th>\n",
       "    </tr>\n",
       "  </thead>\n",
       "  <tbody>\n",
       "    <tr>\n",
       "      <th>0</th>\n",
       "      <td>1</td>\n",
       "      <td>Extruder</td>\n",
       "      <td>5.88</td>\n",
       "      <td>66.17</td>\n",
       "      <td>13</td>\n",
       "      <td>39764</td>\n",
       "      <td>69</td>\n",
       "      <td>0</td>\n",
       "    </tr>\n",
       "    <tr>\n",
       "      <th>1</th>\n",
       "      <td>2</td>\n",
       "      <td>Pressure Cutter</td>\n",
       "      <td>42.76</td>\n",
       "      <td>40.29</td>\n",
       "      <td>4</td>\n",
       "      <td>45181</td>\n",
       "      <td>532</td>\n",
       "      <td>0</td>\n",
       "    </tr>\n",
       "    <tr>\n",
       "      <th>2</th>\n",
       "      <td>3</td>\n",
       "      <td>Extruder</td>\n",
       "      <td>76.62</td>\n",
       "      <td>52.08</td>\n",
       "      <td>4</td>\n",
       "      <td>70397</td>\n",
       "      <td>93</td>\n",
       "      <td>0</td>\n",
       "    </tr>\n",
       "    <tr>\n",
       "      <th>3</th>\n",
       "      <td>4</td>\n",
       "      <td>Pump</td>\n",
       "      <td>45.91</td>\n",
       "      <td>90.26</td>\n",
       "      <td>14</td>\n",
       "      <td>49470</td>\n",
       "      <td>183</td>\n",
       "      <td>0</td>\n",
       "    </tr>\n",
       "    <tr>\n",
       "      <th>4</th>\n",
       "      <td>5</td>\n",
       "      <td>Gauge Machine</td>\n",
       "      <td>78.87</td>\n",
       "      <td>58.56</td>\n",
       "      <td>12</td>\n",
       "      <td>45145</td>\n",
       "      <td>447</td>\n",
       "      <td>0</td>\n",
       "    </tr>\n",
       "    <tr>\n",
       "      <th>...</th>\n",
       "      <td>...</td>\n",
       "      <td>...</td>\n",
       "      <td>...</td>\n",
       "      <td>...</td>\n",
       "      <td>...</td>\n",
       "      <td>...</td>\n",
       "      <td>...</td>\n",
       "      <td>...</td>\n",
       "    </tr>\n",
       "    <tr>\n",
       "      <th>4995</th>\n",
       "      <td>4996</td>\n",
       "      <td>Pump</td>\n",
       "      <td>44.64</td>\n",
       "      <td>42.75</td>\n",
       "      <td>12</td>\n",
       "      <td>55700</td>\n",
       "      <td>340</td>\n",
       "      <td>0</td>\n",
       "    </tr>\n",
       "    <tr>\n",
       "      <th>4996</th>\n",
       "      <td>4997</td>\n",
       "      <td>Extruder</td>\n",
       "      <td>24.88</td>\n",
       "      <td>94.14</td>\n",
       "      <td>9</td>\n",
       "      <td>54351</td>\n",
       "      <td>284</td>\n",
       "      <td>0</td>\n",
       "    </tr>\n",
       "    <tr>\n",
       "      <th>4997</th>\n",
       "      <td>4998</td>\n",
       "      <td>Pump</td>\n",
       "      <td>78.37</td>\n",
       "      <td>62.41</td>\n",
       "      <td>3</td>\n",
       "      <td>27798</td>\n",
       "      <td>216</td>\n",
       "      <td>0</td>\n",
       "    </tr>\n",
       "    <tr>\n",
       "      <th>4998</th>\n",
       "      <td>4999</td>\n",
       "      <td>Pressure Cutter</td>\n",
       "      <td>17.38</td>\n",
       "      <td>87.38</td>\n",
       "      <td>15</td>\n",
       "      <td>71903</td>\n",
       "      <td>91</td>\n",
       "      <td>0</td>\n",
       "    </tr>\n",
       "    <tr>\n",
       "      <th>4999</th>\n",
       "      <td>5000</td>\n",
       "      <td>Pressure Cutter</td>\n",
       "      <td>89.82</td>\n",
       "      <td>52.86</td>\n",
       "      <td>12</td>\n",
       "      <td>46193</td>\n",
       "      <td>275</td>\n",
       "      <td>0</td>\n",
       "    </tr>\n",
       "  </tbody>\n",
       "</table>\n",
       "<p>5000 rows × 8 columns</p>\n",
       "</div>"
      ],
      "text/plain": [
       "       UID      ProductType  Humidity  Temperature  Age  Quantity  MTTF  \\\n",
       "0        1         Extruder      5.88        66.17   13     39764    69   \n",
       "1        2  Pressure Cutter     42.76        40.29    4     45181   532   \n",
       "2        3         Extruder     76.62        52.08    4     70397    93   \n",
       "3        4             Pump     45.91        90.26   14     49470   183   \n",
       "4        5    Gauge Machine     78.87        58.56   12     45145   447   \n",
       "...    ...              ...       ...          ...  ...       ...   ...   \n",
       "4995  4996             Pump     44.64        42.75   12     55700   340   \n",
       "4996  4997         Extruder     24.88        94.14    9     54351   284   \n",
       "4997  4998             Pump     78.37        62.41    3     27798   216   \n",
       "4998  4999  Pressure Cutter     17.38        87.38   15     71903    91   \n",
       "4999  5000  Pressure Cutter     89.82        52.86   12     46193   275   \n",
       "\n",
       "      Failure  \n",
       "0           0  \n",
       "1           0  \n",
       "2           0  \n",
       "3           0  \n",
       "4           0  \n",
       "...       ...  \n",
       "4995        0  \n",
       "4996        0  \n",
       "4997        0  \n",
       "4998        0  \n",
       "4999        0  \n",
       "\n",
       "[5000 rows x 8 columns]"
      ]
     },
     "execution_count": 26,
     "metadata": {},
     "output_type": "execute_result"
    }
   ],
   "source": [
    "df"
   ]
  },
  {
   "cell_type": "code",
   "execution_count": 27,
   "id": "7cf37356-a37d-498a-ab4e-b248905f7e40",
   "metadata": {},
   "outputs": [
    {
     "name": "stdout",
     "output_type": "stream",
     "text": [
      "   MTTF  Failure\n",
      "0    69        0\n",
      "1   532        0\n",
      "2    93        0\n",
      "3   183        0\n",
      "4   447        0\n",
      "5   479        0\n",
      "6   541        0\n",
      "7   352        0\n",
      "8   306        0\n",
      "9   173        0\n"
     ]
    }
   ],
   "source": [
    "\n",
    "df.columns = df.columns.str.strip()\n",
    "\n",
    "\n",
    "df[\"Failure\"] = (df[\"MTTF\"] < 50).astype(int)\n",
    "\n",
    "print(df[[\"MTTF\", \"Failure\"]].head(10))\n"
   ]
  },
  {
   "cell_type": "code",
   "execution_count": 28,
   "id": "ae7973ff-8d01-4baa-9b98-e6717919566d",
   "metadata": {},
   "outputs": [],
   "source": [
    "target_col = \"Failure\""
   ]
  },
  {
   "cell_type": "code",
   "execution_count": 29,
   "id": "4e818b56-b63b-4b5e-9f99-ffd984386af1",
   "metadata": {},
   "outputs": [
    {
     "name": "stdout",
     "output_type": "stream",
     "text": [
      "Data shape: (5000, 8)\n",
      "Columns: ['UID', 'ProductType', 'Humidity', 'Temperature', 'Age', 'Quantity', 'MTTF', 'Failure']\n"
     ]
    }
   ],
   "source": [
    "print(\"Data shape:\", df.shape)\n",
    "print(\"Columns:\", list(df.columns))\n",
    "assert target_col in df.columns, f\"Target column '{target_col}' not found in data columns.\"\n"
   ]
  },
  {
   "cell_type": "code",
   "execution_count": 30,
   "id": "63398823-6015-42d9-952c-7183ec2adfd6",
   "metadata": {},
   "outputs": [],
   "source": [
    "# ---------- SPLIT FEATURES / TARGET ----------\n",
    "X = df.drop(columns=[target_col])\n",
    "y = df[target_col]"
   ]
  },
  {
   "cell_type": "code",
   "execution_count": 31,
   "id": "5c29c87b-deab-4153-9855-4ee26bb6e5f3",
   "metadata": {},
   "outputs": [],
   "source": [
    "# If target is categorical strings, convert to numeric labels (0/1)\n",
    "if y.dtype == object:\n",
    "    y = y.astype('category').cat.codes\n"
   ]
  },
  {
   "cell_type": "code",
   "execution_count": 32,
   "id": "d7b914b2-b97b-45cb-81f8-06cca31f2de5",
   "metadata": {},
   "outputs": [
    {
     "name": "stdout",
     "output_type": "stream",
     "text": [
      "Numeric features: ['UID', 'Humidity', 'Temperature', 'Age', 'Quantity', 'MTTF']\n",
      "Categorical features: ['ProductType']\n"
     ]
    }
   ],
   "source": [
    "# Identify numeric and categorical cols\n",
    "numeric_features = X.select_dtypes(include=[np.number]).columns.tolist()\n",
    "categorical_features = X.select_dtypes(include=['object', 'category', 'bool']).columns.tolist()\n",
    "\n",
    "print(\"Numeric features:\", numeric_features)\n",
    "print(\"Categorical features:\", categorical_features)\n"
   ]
  },
  {
   "cell_type": "markdown",
   "id": "b0c56a14-d113-4d38-9d20-395c3ba4fa07",
   "metadata": {},
   "source": [
    "## Split Data & Train Model"
   ]
  },
  {
   "cell_type": "code",
   "execution_count": 42,
   "id": "7cc24edd-5aee-4885-b9d7-96e2f5aad98a",
   "metadata": {},
   "outputs": [],
   "source": [
    "from sklearn.metrics import mean_squared_error\n",
    "import warnings\n",
    "warnings.filterwarnings(\"ignore\")"
   ]
  },
  {
   "cell_type": "code",
   "execution_count": 43,
   "id": "a981934f-7742-4003-85d9-9af50cdc15f6",
   "metadata": {},
   "outputs": [],
   "source": [
    "# 1. Select features and target\n",
    "features = [\"ProductType\", \"Humidity\", \"Temperature\", \"Age\", \"Quantity\"]\n",
    "target = \"MTTF\"\n",
    "\n",
    "X = df[features]\n",
    "y = df[target]\n"
   ]
  },
  {
   "cell_type": "code",
   "execution_count": 44,
   "id": "6077e8d0-78ae-4a8d-9928-e3671606dacb",
   "metadata": {},
   "outputs": [],
   "source": [
    "# 2. Encode categorical feature\n",
    "from sklearn.preprocessing import LabelEncoder, StandardScaler\n",
    "le = LabelEncoder()\n",
    "X[\"ProductType\"] = le.fit_transform(X[\"ProductType\"])"
   ]
  },
  {
   "cell_type": "code",
   "execution_count": 45,
   "id": "f34f70e5-8b5d-467e-ac5c-940800d0b3d4",
   "metadata": {},
   "outputs": [],
   "source": [
    "# 3. Split data into train and test\n",
    "from sklearn.model_selection import train_test_split\n",
    "\n",
    "X_train, X_test, y_train, y_test = train_test_split(\n",
    "    X, y, test_size=0.2, random_state=42\n",
    ")"
   ]
  },
  {
   "cell_type": "code",
   "execution_count": 46,
   "id": "ad310b70-3a41-42e4-90c2-bcea7c2414a9",
   "metadata": {},
   "outputs": [],
   "source": [
    "# 4. Scale features\n",
    "scaler = StandardScaler()\n",
    "X_train_scaled = scaler.fit_transform(X_train)\n",
    "X_test_scaled = scaler.transform(X_test)\n"
   ]
  },
  {
   "cell_type": "markdown",
   "id": "94c78f34-2afe-425c-aabe-64944106b175",
   "metadata": {},
   "source": [
    "## 1. Logistic Regression"
   ]
  },
  {
   "cell_type": "code",
   "execution_count": 49,
   "id": "2862f6f7-331d-4cf0-9c94-63e60b4e506a",
   "metadata": {},
   "outputs": [
    {
     "data": {
      "text/html": [
       "<style>#sk-container-id-3 {\n",
       "  /* Definition of color scheme common for light and dark mode */\n",
       "  --sklearn-color-text: black;\n",
       "  --sklearn-color-line: gray;\n",
       "  /* Definition of color scheme for unfitted estimators */\n",
       "  --sklearn-color-unfitted-level-0: #fff5e6;\n",
       "  --sklearn-color-unfitted-level-1: #f6e4d2;\n",
       "  --sklearn-color-unfitted-level-2: #ffe0b3;\n",
       "  --sklearn-color-unfitted-level-3: chocolate;\n",
       "  /* Definition of color scheme for fitted estimators */\n",
       "  --sklearn-color-fitted-level-0: #f0f8ff;\n",
       "  --sklearn-color-fitted-level-1: #d4ebff;\n",
       "  --sklearn-color-fitted-level-2: #b3dbfd;\n",
       "  --sklearn-color-fitted-level-3: cornflowerblue;\n",
       "\n",
       "  /* Specific color for light theme */\n",
       "  --sklearn-color-text-on-default-background: var(--sg-text-color, var(--theme-code-foreground, var(--jp-content-font-color1, black)));\n",
       "  --sklearn-color-background: var(--sg-background-color, var(--theme-background, var(--jp-layout-color0, white)));\n",
       "  --sklearn-color-border-box: var(--sg-text-color, var(--theme-code-foreground, var(--jp-content-font-color1, black)));\n",
       "  --sklearn-color-icon: #696969;\n",
       "\n",
       "  @media (prefers-color-scheme: dark) {\n",
       "    /* Redefinition of color scheme for dark theme */\n",
       "    --sklearn-color-text-on-default-background: var(--sg-text-color, var(--theme-code-foreground, var(--jp-content-font-color1, white)));\n",
       "    --sklearn-color-background: var(--sg-background-color, var(--theme-background, var(--jp-layout-color0, #111)));\n",
       "    --sklearn-color-border-box: var(--sg-text-color, var(--theme-code-foreground, var(--jp-content-font-color1, white)));\n",
       "    --sklearn-color-icon: #878787;\n",
       "  }\n",
       "}\n",
       "\n",
       "#sk-container-id-3 {\n",
       "  color: var(--sklearn-color-text);\n",
       "}\n",
       "\n",
       "#sk-container-id-3 pre {\n",
       "  padding: 0;\n",
       "}\n",
       "\n",
       "#sk-container-id-3 input.sk-hidden--visually {\n",
       "  border: 0;\n",
       "  clip: rect(1px 1px 1px 1px);\n",
       "  clip: rect(1px, 1px, 1px, 1px);\n",
       "  height: 1px;\n",
       "  margin: -1px;\n",
       "  overflow: hidden;\n",
       "  padding: 0;\n",
       "  position: absolute;\n",
       "  width: 1px;\n",
       "}\n",
       "\n",
       "#sk-container-id-3 div.sk-dashed-wrapped {\n",
       "  border: 1px dashed var(--sklearn-color-line);\n",
       "  margin: 0 0.4em 0.5em 0.4em;\n",
       "  box-sizing: border-box;\n",
       "  padding-bottom: 0.4em;\n",
       "  background-color: var(--sklearn-color-background);\n",
       "}\n",
       "\n",
       "#sk-container-id-3 div.sk-container {\n",
       "  /* jupyter's `normalize.less` sets `[hidden] { display: none; }`\n",
       "     but bootstrap.min.css set `[hidden] { display: none !important; }`\n",
       "     so we also need the `!important` here to be able to override the\n",
       "     default hidden behavior on the sphinx rendered scikit-learn.org.\n",
       "     See: https://github.com/scikit-learn/scikit-learn/issues/21755 */\n",
       "  display: inline-block !important;\n",
       "  position: relative;\n",
       "}\n",
       "\n",
       "#sk-container-id-3 div.sk-text-repr-fallback {\n",
       "  display: none;\n",
       "}\n",
       "\n",
       "div.sk-parallel-item,\n",
       "div.sk-serial,\n",
       "div.sk-item {\n",
       "  /* draw centered vertical line to link estimators */\n",
       "  background-image: linear-gradient(var(--sklearn-color-text-on-default-background), var(--sklearn-color-text-on-default-background));\n",
       "  background-size: 2px 100%;\n",
       "  background-repeat: no-repeat;\n",
       "  background-position: center center;\n",
       "}\n",
       "\n",
       "/* Parallel-specific style estimator block */\n",
       "\n",
       "#sk-container-id-3 div.sk-parallel-item::after {\n",
       "  content: \"\";\n",
       "  width: 100%;\n",
       "  border-bottom: 2px solid var(--sklearn-color-text-on-default-background);\n",
       "  flex-grow: 1;\n",
       "}\n",
       "\n",
       "#sk-container-id-3 div.sk-parallel {\n",
       "  display: flex;\n",
       "  align-items: stretch;\n",
       "  justify-content: center;\n",
       "  background-color: var(--sklearn-color-background);\n",
       "  position: relative;\n",
       "}\n",
       "\n",
       "#sk-container-id-3 div.sk-parallel-item {\n",
       "  display: flex;\n",
       "  flex-direction: column;\n",
       "}\n",
       "\n",
       "#sk-container-id-3 div.sk-parallel-item:first-child::after {\n",
       "  align-self: flex-end;\n",
       "  width: 50%;\n",
       "}\n",
       "\n",
       "#sk-container-id-3 div.sk-parallel-item:last-child::after {\n",
       "  align-self: flex-start;\n",
       "  width: 50%;\n",
       "}\n",
       "\n",
       "#sk-container-id-3 div.sk-parallel-item:only-child::after {\n",
       "  width: 0;\n",
       "}\n",
       "\n",
       "/* Serial-specific style estimator block */\n",
       "\n",
       "#sk-container-id-3 div.sk-serial {\n",
       "  display: flex;\n",
       "  flex-direction: column;\n",
       "  align-items: center;\n",
       "  background-color: var(--sklearn-color-background);\n",
       "  padding-right: 1em;\n",
       "  padding-left: 1em;\n",
       "}\n",
       "\n",
       "\n",
       "/* Toggleable style: style used for estimator/Pipeline/ColumnTransformer box that is\n",
       "clickable and can be expanded/collapsed.\n",
       "- Pipeline and ColumnTransformer use this feature and define the default style\n",
       "- Estimators will overwrite some part of the style using the `sk-estimator` class\n",
       "*/\n",
       "\n",
       "/* Pipeline and ColumnTransformer style (default) */\n",
       "\n",
       "#sk-container-id-3 div.sk-toggleable {\n",
       "  /* Default theme specific background. It is overwritten whether we have a\n",
       "  specific estimator or a Pipeline/ColumnTransformer */\n",
       "  background-color: var(--sklearn-color-background);\n",
       "}\n",
       "\n",
       "/* Toggleable label */\n",
       "#sk-container-id-3 label.sk-toggleable__label {\n",
       "  cursor: pointer;\n",
       "  display: block;\n",
       "  width: 100%;\n",
       "  margin-bottom: 0;\n",
       "  padding: 0.5em;\n",
       "  box-sizing: border-box;\n",
       "  text-align: center;\n",
       "}\n",
       "\n",
       "#sk-container-id-3 label.sk-toggleable__label-arrow:before {\n",
       "  /* Arrow on the left of the label */\n",
       "  content: \"▸\";\n",
       "  float: left;\n",
       "  margin-right: 0.25em;\n",
       "  color: var(--sklearn-color-icon);\n",
       "}\n",
       "\n",
       "#sk-container-id-3 label.sk-toggleable__label-arrow:hover:before {\n",
       "  color: var(--sklearn-color-text);\n",
       "}\n",
       "\n",
       "/* Toggleable content - dropdown */\n",
       "\n",
       "#sk-container-id-3 div.sk-toggleable__content {\n",
       "  max-height: 0;\n",
       "  max-width: 0;\n",
       "  overflow: hidden;\n",
       "  text-align: left;\n",
       "  /* unfitted */\n",
       "  background-color: var(--sklearn-color-unfitted-level-0);\n",
       "}\n",
       "\n",
       "#sk-container-id-3 div.sk-toggleable__content.fitted {\n",
       "  /* fitted */\n",
       "  background-color: var(--sklearn-color-fitted-level-0);\n",
       "}\n",
       "\n",
       "#sk-container-id-3 div.sk-toggleable__content pre {\n",
       "  margin: 0.2em;\n",
       "  border-radius: 0.25em;\n",
       "  color: var(--sklearn-color-text);\n",
       "  /* unfitted */\n",
       "  background-color: var(--sklearn-color-unfitted-level-0);\n",
       "}\n",
       "\n",
       "#sk-container-id-3 div.sk-toggleable__content.fitted pre {\n",
       "  /* unfitted */\n",
       "  background-color: var(--sklearn-color-fitted-level-0);\n",
       "}\n",
       "\n",
       "#sk-container-id-3 input.sk-toggleable__control:checked~div.sk-toggleable__content {\n",
       "  /* Expand drop-down */\n",
       "  max-height: 200px;\n",
       "  max-width: 100%;\n",
       "  overflow: auto;\n",
       "}\n",
       "\n",
       "#sk-container-id-3 input.sk-toggleable__control:checked~label.sk-toggleable__label-arrow:before {\n",
       "  content: \"▾\";\n",
       "}\n",
       "\n",
       "/* Pipeline/ColumnTransformer-specific style */\n",
       "\n",
       "#sk-container-id-3 div.sk-label input.sk-toggleable__control:checked~label.sk-toggleable__label {\n",
       "  color: var(--sklearn-color-text);\n",
       "  background-color: var(--sklearn-color-unfitted-level-2);\n",
       "}\n",
       "\n",
       "#sk-container-id-3 div.sk-label.fitted input.sk-toggleable__control:checked~label.sk-toggleable__label {\n",
       "  background-color: var(--sklearn-color-fitted-level-2);\n",
       "}\n",
       "\n",
       "/* Estimator-specific style */\n",
       "\n",
       "/* Colorize estimator box */\n",
       "#sk-container-id-3 div.sk-estimator input.sk-toggleable__control:checked~label.sk-toggleable__label {\n",
       "  /* unfitted */\n",
       "  background-color: var(--sklearn-color-unfitted-level-2);\n",
       "}\n",
       "\n",
       "#sk-container-id-3 div.sk-estimator.fitted input.sk-toggleable__control:checked~label.sk-toggleable__label {\n",
       "  /* fitted */\n",
       "  background-color: var(--sklearn-color-fitted-level-2);\n",
       "}\n",
       "\n",
       "#sk-container-id-3 div.sk-label label.sk-toggleable__label,\n",
       "#sk-container-id-3 div.sk-label label {\n",
       "  /* The background is the default theme color */\n",
       "  color: var(--sklearn-color-text-on-default-background);\n",
       "}\n",
       "\n",
       "/* On hover, darken the color of the background */\n",
       "#sk-container-id-3 div.sk-label:hover label.sk-toggleable__label {\n",
       "  color: var(--sklearn-color-text);\n",
       "  background-color: var(--sklearn-color-unfitted-level-2);\n",
       "}\n",
       "\n",
       "/* Label box, darken color on hover, fitted */\n",
       "#sk-container-id-3 div.sk-label.fitted:hover label.sk-toggleable__label.fitted {\n",
       "  color: var(--sklearn-color-text);\n",
       "  background-color: var(--sklearn-color-fitted-level-2);\n",
       "}\n",
       "\n",
       "/* Estimator label */\n",
       "\n",
       "#sk-container-id-3 div.sk-label label {\n",
       "  font-family: monospace;\n",
       "  font-weight: bold;\n",
       "  display: inline-block;\n",
       "  line-height: 1.2em;\n",
       "}\n",
       "\n",
       "#sk-container-id-3 div.sk-label-container {\n",
       "  text-align: center;\n",
       "}\n",
       "\n",
       "/* Estimator-specific */\n",
       "#sk-container-id-3 div.sk-estimator {\n",
       "  font-family: monospace;\n",
       "  border: 1px dotted var(--sklearn-color-border-box);\n",
       "  border-radius: 0.25em;\n",
       "  box-sizing: border-box;\n",
       "  margin-bottom: 0.5em;\n",
       "  /* unfitted */\n",
       "  background-color: var(--sklearn-color-unfitted-level-0);\n",
       "}\n",
       "\n",
       "#sk-container-id-3 div.sk-estimator.fitted {\n",
       "  /* fitted */\n",
       "  background-color: var(--sklearn-color-fitted-level-0);\n",
       "}\n",
       "\n",
       "/* on hover */\n",
       "#sk-container-id-3 div.sk-estimator:hover {\n",
       "  /* unfitted */\n",
       "  background-color: var(--sklearn-color-unfitted-level-2);\n",
       "}\n",
       "\n",
       "#sk-container-id-3 div.sk-estimator.fitted:hover {\n",
       "  /* fitted */\n",
       "  background-color: var(--sklearn-color-fitted-level-2);\n",
       "}\n",
       "\n",
       "/* Specification for estimator info (e.g. \"i\" and \"?\") */\n",
       "\n",
       "/* Common style for \"i\" and \"?\" */\n",
       "\n",
       ".sk-estimator-doc-link,\n",
       "a:link.sk-estimator-doc-link,\n",
       "a:visited.sk-estimator-doc-link {\n",
       "  float: right;\n",
       "  font-size: smaller;\n",
       "  line-height: 1em;\n",
       "  font-family: monospace;\n",
       "  background-color: var(--sklearn-color-background);\n",
       "  border-radius: 1em;\n",
       "  height: 1em;\n",
       "  width: 1em;\n",
       "  text-decoration: none !important;\n",
       "  margin-left: 1ex;\n",
       "  /* unfitted */\n",
       "  border: var(--sklearn-color-unfitted-level-1) 1pt solid;\n",
       "  color: var(--sklearn-color-unfitted-level-1);\n",
       "}\n",
       "\n",
       ".sk-estimator-doc-link.fitted,\n",
       "a:link.sk-estimator-doc-link.fitted,\n",
       "a:visited.sk-estimator-doc-link.fitted {\n",
       "  /* fitted */\n",
       "  border: var(--sklearn-color-fitted-level-1) 1pt solid;\n",
       "  color: var(--sklearn-color-fitted-level-1);\n",
       "}\n",
       "\n",
       "/* On hover */\n",
       "div.sk-estimator:hover .sk-estimator-doc-link:hover,\n",
       ".sk-estimator-doc-link:hover,\n",
       "div.sk-label-container:hover .sk-estimator-doc-link:hover,\n",
       ".sk-estimator-doc-link:hover {\n",
       "  /* unfitted */\n",
       "  background-color: var(--sklearn-color-unfitted-level-3);\n",
       "  color: var(--sklearn-color-background);\n",
       "  text-decoration: none;\n",
       "}\n",
       "\n",
       "div.sk-estimator.fitted:hover .sk-estimator-doc-link.fitted:hover,\n",
       ".sk-estimator-doc-link.fitted:hover,\n",
       "div.sk-label-container:hover .sk-estimator-doc-link.fitted:hover,\n",
       ".sk-estimator-doc-link.fitted:hover {\n",
       "  /* fitted */\n",
       "  background-color: var(--sklearn-color-fitted-level-3);\n",
       "  color: var(--sklearn-color-background);\n",
       "  text-decoration: none;\n",
       "}\n",
       "\n",
       "/* Span, style for the box shown on hovering the info icon */\n",
       ".sk-estimator-doc-link span {\n",
       "  display: none;\n",
       "  z-index: 9999;\n",
       "  position: relative;\n",
       "  font-weight: normal;\n",
       "  right: .2ex;\n",
       "  padding: .5ex;\n",
       "  margin: .5ex;\n",
       "  width: min-content;\n",
       "  min-width: 20ex;\n",
       "  max-width: 50ex;\n",
       "  color: var(--sklearn-color-text);\n",
       "  box-shadow: 2pt 2pt 4pt #999;\n",
       "  /* unfitted */\n",
       "  background: var(--sklearn-color-unfitted-level-0);\n",
       "  border: .5pt solid var(--sklearn-color-unfitted-level-3);\n",
       "}\n",
       "\n",
       ".sk-estimator-doc-link.fitted span {\n",
       "  /* fitted */\n",
       "  background: var(--sklearn-color-fitted-level-0);\n",
       "  border: var(--sklearn-color-fitted-level-3);\n",
       "}\n",
       "\n",
       ".sk-estimator-doc-link:hover span {\n",
       "  display: block;\n",
       "}\n",
       "\n",
       "/* \"?\"-specific style due to the `<a>` HTML tag */\n",
       "\n",
       "#sk-container-id-3 a.estimator_doc_link {\n",
       "  float: right;\n",
       "  font-size: 1rem;\n",
       "  line-height: 1em;\n",
       "  font-family: monospace;\n",
       "  background-color: var(--sklearn-color-background);\n",
       "  border-radius: 1rem;\n",
       "  height: 1rem;\n",
       "  width: 1rem;\n",
       "  text-decoration: none;\n",
       "  /* unfitted */\n",
       "  color: var(--sklearn-color-unfitted-level-1);\n",
       "  border: var(--sklearn-color-unfitted-level-1) 1pt solid;\n",
       "}\n",
       "\n",
       "#sk-container-id-3 a.estimator_doc_link.fitted {\n",
       "  /* fitted */\n",
       "  border: var(--sklearn-color-fitted-level-1) 1pt solid;\n",
       "  color: var(--sklearn-color-fitted-level-1);\n",
       "}\n",
       "\n",
       "/* On hover */\n",
       "#sk-container-id-3 a.estimator_doc_link:hover {\n",
       "  /* unfitted */\n",
       "  background-color: var(--sklearn-color-unfitted-level-3);\n",
       "  color: var(--sklearn-color-background);\n",
       "  text-decoration: none;\n",
       "}\n",
       "\n",
       "#sk-container-id-3 a.estimator_doc_link.fitted:hover {\n",
       "  /* fitted */\n",
       "  background-color: var(--sklearn-color-fitted-level-3);\n",
       "}\n",
       "</style><div id=\"sk-container-id-3\" class=\"sk-top-container\"><div class=\"sk-text-repr-fallback\"><pre>LogisticRegression(max_iter=1000)</pre><b>In a Jupyter environment, please rerun this cell to show the HTML representation or trust the notebook. <br />On GitHub, the HTML representation is unable to render, please try loading this page with nbviewer.org.</b></div><div class=\"sk-container\" hidden><div class=\"sk-item\"><div class=\"sk-estimator fitted sk-toggleable\"><input class=\"sk-toggleable__control sk-hidden--visually\" id=\"sk-estimator-id-3\" type=\"checkbox\" checked><label for=\"sk-estimator-id-3\" class=\"sk-toggleable__label fitted sk-toggleable__label-arrow fitted\">&nbsp;&nbsp;LogisticRegression<a class=\"sk-estimator-doc-link fitted\" rel=\"noreferrer\" target=\"_blank\" href=\"https://scikit-learn.org/1.5/modules/generated/sklearn.linear_model.LogisticRegression.html\">?<span>Documentation for LogisticRegression</span></a><span class=\"sk-estimator-doc-link fitted\">i<span>Fitted</span></span></label><div class=\"sk-toggleable__content fitted\"><pre>LogisticRegression(max_iter=1000)</pre></div> </div></div></div></div>"
      ],
      "text/plain": [
       "LogisticRegression(max_iter=1000)"
      ]
     },
     "execution_count": 49,
     "metadata": {},
     "output_type": "execute_result"
    }
   ],
   "source": [
    "# 5. Train Logistic Regression Model\n",
    "from sklearn.linear_model import LogisticRegression\n",
    "\n",
    "# Train logistic regression (as example)\n",
    "model = LogisticRegression(max_iter=1000)\n",
    "model.fit(X_train_scaled, y_train)"
   ]
  },
  {
   "cell_type": "code",
   "execution_count": 48,
   "id": "520c8b06-7840-4a7b-a5ba-3a6fee9fdecb",
   "metadata": {},
   "outputs": [
    {
     "name": "stdout",
     "output_type": "stream",
     "text": [
      "Logistic Regression MSE: 54659.554\n"
     ]
    }
   ],
   "source": [
    "from sklearn.linear_model import LogisticRegression\n",
    "from sklearn.metrics import mean_squared_error\n",
    "\n",
    "lr = LogisticRegression(max_iter=1000)\n",
    "lr.fit(X_train_scaled, y_train)\n",
    "y_pred_lr = lr.predict(X_test_scaled)\n",
    "print('Logistic Regression MSE:', mean_squared_error(y_test, y_pred_lr))"
   ]
  },
  {
   "cell_type": "markdown",
   "id": "e942aafd-306d-4bb2-90f4-2bb4be754efd",
   "metadata": {},
   "source": [
    "## 2. Random Forest"
   ]
  },
  {
   "cell_type": "code",
   "execution_count": 50,
   "id": "3500f176-8f9f-453b-add5-c2d6a2bb5625",
   "metadata": {},
   "outputs": [
    {
     "name": "stdout",
     "output_type": "stream",
     "text": [
      "Random Forest MSE: 25982.9896857\n"
     ]
    }
   ],
   "source": [
    "from sklearn.ensemble import RandomForestRegressor\n",
    "\n",
    "rf = RandomForestRegressor(random_state=42)\n",
    "rf.fit(X_train_scaled, y_train)\n",
    "y_pred_rf = rf.predict(X_test_scaled)\n",
    "print('Random Forest MSE:', mean_squared_error(y_test, y_pred_rf))\n"
   ]
  },
  {
   "cell_type": "markdown",
   "id": "148421df-6ea1-4f4d-8518-d0579e6fffd5",
   "metadata": {},
   "source": [
    "## 3. Gradient Boosting"
   ]
  },
  {
   "cell_type": "code",
   "execution_count": 51,
   "id": "5e75caa6-7452-46a8-812e-4e21251a9ca7",
   "metadata": {},
   "outputs": [
    {
     "name": "stdout",
     "output_type": "stream",
     "text": [
      "Gradient Boosting MSE: 24901.883850095168\n"
     ]
    }
   ],
   "source": [
    "\n",
    "from sklearn.ensemble import GradientBoostingRegressor\n",
    "\n",
    "gb = GradientBoostingRegressor(random_state=42)\n",
    "gb.fit(X_train_scaled, y_train)\n",
    "y_pred_gb = gb.predict(X_test_scaled)\n",
    "print('Gradient Boosting MSE:', mean_squared_error(y_test, y_pred_gb))\n"
   ]
  },
  {
   "cell_type": "markdown",
   "id": "e4b32314-5d5b-446c-8df1-a6989039c5e8",
   "metadata": {},
   "source": [
    "## Model Evaluation"
   ]
  },
  {
   "cell_type": "markdown",
   "id": "43fa9466-dc09-431e-9847-87ebe9f08a9b",
   "metadata": {},
   "source": [
    "Model Evaluation\n",
    "\n",
    "Use confusion matrix & ROC curve.\n",
    "\n",
    "Deployment (Optional Automation)\n",
    "\n",
    "Deploy with Streamlit (interactive dashboard)."
   ]
  },
  {
   "cell_type": "code",
   "execution_count": 52,
   "id": "a8df1c65-34b4-4dc3-8ebc-eb8213bfada7",
   "metadata": {},
   "outputs": [
    {
     "name": "stdout",
     "output_type": "stream",
     "text": [
      "Mean Squared Error: 46040.106\n"
     ]
    }
   ],
   "source": [
    "from sklearn.metrics import mean_squared_error\n",
    "import warnings\n",
    "warnings.filterwarnings(\"ignore\")\n",
    "#  predictions and evaluate model\n",
    "y_pred = model.predict(X_test)\n",
    "mse = mean_squared_error(y_test, y_pred)\n",
    "print('Mean Squared Error:', mse)\n"
   ]
  },
  {
   "cell_type": "code",
   "execution_count": 53,
   "id": "9aa2aad1-e815-4faf-aff5-b82841e7c400",
   "metadata": {},
   "outputs": [],
   "source": [
    "# Encode categorical variables\n",
    "le = LabelEncoder()\n",
    "df['ProductType'] = le.fit_transform(df['ProductType'])\n"
   ]
  },
  {
   "cell_type": "code",
   "execution_count": 54,
   "id": "e9938bae-a1bd-45b0-924c-f3152679cfd2",
   "metadata": {},
   "outputs": [],
   "source": [
    "# Select features and target\n",
    "features = ['ProductType', 'Humidity', 'Temperature', 'Age', 'Quantity']\n",
    "target = 'MTTF'\n",
    "X = df[features]\n",
    "y = df[target]\n"
   ]
  },
  {
   "cell_type": "code",
   "execution_count": 55,
   "id": "5aa6fc03-e5bc-466b-8ec6-829967feadc0",
   "metadata": {},
   "outputs": [],
   "source": [
    "# Split and scale\n",
    "X_train, X_test, y_train, y_test = train_test_split(X, y, stratify=y, random_state=42)\n",
    "scaler = StandardScaler()\n",
    "X_train_scaled = scaler.fit_transform(X_train)\n",
    "X_test_scaled = scaler.transform(X_test)"
   ]
  },
  {
   "cell_type": "code",
   "execution_count": 56,
   "id": "79e69cc3-092e-4039-809a-cea562463a58",
   "metadata": {},
   "outputs": [],
   "source": [
    "# Split the data\n",
    "X_train, X_test, y_train, y_test = train_test_split(X, y, test_size=0.2, random_state=42)\n"
   ]
  },
  {
   "cell_type": "code",
   "execution_count": 57,
   "id": "579d9140-83e9-48f6-afd0-9f69b0caa89d",
   "metadata": {},
   "outputs": [],
   "source": [
    "# Standardize features\n",
    "scaler = StandardScaler()\n",
    "X_train_scaled = scaler.fit_transform(X_train)\n",
    "X_test_scaled = scaler.transform(X_test)\n"
   ]
  },
  {
   "cell_type": "markdown",
   "id": "2678dfba-25d4-4081-9d32-01e2947525fe",
   "metadata": {},
   "source": [
    "## Model Evaluation Metrics (Regression)"
   ]
  },
  {
   "cell_type": "code",
   "execution_count": 69,
   "id": "c8220981-a4a7-4a1d-8524-6922ce93b36e",
   "metadata": {},
   "outputs": [
    {
     "name": "stdout",
     "output_type": "stream",
     "text": [
      "Random Forest Evaluation:\n",
      "  Mean Absolute Error (MAE): 138.72\n",
      "  Mean Squared Error (MSE): 25982.99\n",
      "  Root Mean Squared Error (RMSE): 161.19\n",
      "  R-squared (R²): -0.06\n",
      "Gradient Boosting Evaluation:\n",
      "  Mean Absolute Error (MAE): 136.90\n",
      "  Mean Squared Error (MSE): 24901.88\n",
      "  Root Mean Squared Error (RMSE): 157.80\n",
      "  R-squared (R²): -0.02\n",
      "Logistic Regression Evaluation:\n",
      "  Mean Absolute Error (MAE): 194.13\n",
      "  Mean Squared Error (MSE): 54659.55\n",
      "  Root Mean Squared Error (RMSE): 233.79\n",
      "  R-squared (R²): -1.24\n"
     ]
    }
   ],
   "source": [
    "from sklearn.metrics import mean_squared_error, mean_absolute_error, r2_score\n",
    "import numpy as np\n",
    "\n",
    "def evaluate_regression(y_true, y_pred, model_name=\"Model\"):\n",
    "    mse = mean_squared_error(y_true, y_pred)\n",
    "    mae = mean_absolute_error(y_true, y_pred)\n",
    "    rmse = np.sqrt(mse)\n",
    "    r2 = r2_score(y_true, y_pred)\n",
    "    print(f\"{model_name} Evaluation:\")\n",
    "    print(f\"  Mean Absolute Error (MAE): {mae:.2f}\")\n",
    "    print(f\"  Mean Squared Error (MSE): {mse:.2f}\")\n",
    "    print(f\"  Root Mean Squared Error (RMSE): {rmse:.2f}\")\n",
    "    print(f\"  R-squared (R²): {r2:.2f}\")\n",
    "\n",
    "# Example usage\n",
    "evaluate_regression(y_test, y_pred_rf, \"Random Forest\")\n",
    "evaluate_regression(y_test, y_pred_gb, \"Gradient Boosting\")\n",
    "evaluate_regression(y_test, y_pred_lr, \"Logistic Regression\")"
   ]
  },
  {
   "cell_type": "markdown",
   "id": "6240d85c-8db9-44e8-8e6f-44a4d2b2eb72",
   "metadata": {},
   "source": [
    "## Cross-Validation "
   ]
  },
  {
   "cell_type": "code",
   "execution_count": 71,
   "id": "9c358151-779e-42a7-86a8-963c8471fab8",
   "metadata": {},
   "outputs": [
    {
     "name": "stdout",
     "output_type": "stream",
     "text": [
      "Random Forest CV RMSE: [160.57160299 156.88520175 162.84206333 157.86385211 156.97675797]\n",
      "Mean RMSE: 159.03, Std: 2.33\n"
     ]
    }
   ],
   "source": [
    "from sklearn.model_selection import cross_val_score\n",
    "cv_scores = cross_val_score(rf, X_train_scaled, y_train, cv=5, scoring='neg_mean_squared_error')\n",
    "rmse_scores = np.sqrt(-cv_scores)\n",
    "print(\"Random Forest CV RMSE:\", rmse_scores)\n",
    "print(\"Mean RMSE: {:.2f}, Std: {:.2f}\".format(rmse_scores.mean(), rmse_scores.std()))\n"
   ]
  },
  {
   "cell_type": "markdown",
   "id": "8e82dba2-bfd4-4c46-afc1-1016e6e27599",
   "metadata": {},
   "source": [
    "## Feature Importance (for Tree-Based Models)"
   ]
  },
  {
   "cell_type": "code",
   "execution_count": 73,
   "id": "c9a7b575-681e-45b9-b032-dc76acb3f44f",
   "metadata": {},
   "outputs": [
    {
     "data": {
      "image/png": "[encoded data removed]",
      "text/plain": [
       "<Figure size 700x500 with 1 Axes>"
      ]
     },
     "metadata": {},
     "output_type": "display_data"
    }
   ],
   "source": [
    "import matplotlib.pyplot as plt\n",
    "\n",
    "importances = rf.feature_importances_\n",
    "feature_names = X.columns\n",
    "\n",
    "plt.figure(figsize=(7, 5))\n",
    "plt.barh(feature_names, importances)\n",
    "plt.xlabel(\"Feature Importance\")\n",
    "plt.title(\"Random Forest Feature Importance\")\n",
    "plt.show()\n"
   ]
  },
  {
   "cell_type": "markdown",
   "id": "25ceeba7-d7f4-4e85-8b4b-1e025af45e3e",
   "metadata": {},
   "source": [
    "## Example Usage with Models"
   ]
  },
  {
   "cell_type": "code",
   "execution_count": 74,
   "id": "f4ffb34a-42bd-4589-9804-8c1d67c58b77",
   "metadata": {},
   "outputs": [
    {
     "name": "stdout",
     "output_type": "stream",
     "text": [
      "Random Forest Evaluation:\n",
      "  Mean Absolute Error (MAE): 138.72\n",
      "  Mean Squared Error (MSE): 25982.99\n",
      "  Root Mean Squared Error (RMSE): 161.19\n",
      "  R-squared (R²): -0.06\n"
     ]
    },
    {
     "data": {
      "image/png": "[encoded data removed]",
      "text/plain": [
       "<Figure size 700x500 with 1 Axes>"
      ]
     },
     "metadata": {},
     "output_type": "display_data"
    },
    {
     "name": "stdout",
     "output_type": "stream",
     "text": [
      "Gradient Boosting Evaluation:\n",
      "  Mean Absolute Error (MAE): 136.90\n",
      "  Mean Squared Error (MSE): 24901.88\n",
      "  Root Mean Squared Error (RMSE): 157.80\n",
      "  R-squared (R²): -0.02\n"
     ]
    },
    {
     "data": {
      "image/png": "[encoded data removed]",
      "text/plain": [
       "<Figure size 700x500 with 1 Axes>"
      ]
     },
     "metadata": {},
     "output_type": "display_data"
    }
   ],
   "source": [
    "for name, model in [(\"Random Forest\", rf), (\"Gradient Boosting\", gb)]:\n",
    "    y_pred = model.predict(X_test_scaled)\n",
    "    evaluate_regression(y_test, y_pred, name)\n",
    "\n",
    "    if hasattr(model, \"feature_importances_\"):\n",
    "        plt.figure(figsize=(7, 5))\n",
    "        plt.barh(feature_names, model.feature_importances_)\n",
    "        plt.xlabel(\"Feature Importance\")\n",
    "        plt.title(f\"{name} Feature Importance\")\n",
    "        plt.show()\n"
   ]
  },
  {
   "cell_type": "markdown",
   "id": "18dbcd07-b1d0-4a4d-9f9e-2e3369880e9e",
   "metadata": {},
   "source": [
    "## Deployment"
   ]
  },
  {
   "cell_type": "code",
   "execution_count": 75,
   "id": "21156e72-9caf-4e7d-9f66-d21bfa28fc02",
   "metadata": {},
   "outputs": [
    {
     "data": {
      "text/plain": [
       "['rf_model.pkl']"
      ]
     },
     "execution_count": 75,
     "metadata": {},
     "output_type": "execute_result"
    }
   ],
   "source": [
    "import joblib\n",
    "joblib.dump(rf, \"rf_model.pkl\")\n"
   ]
  },
  {
   "cell_type": "markdown",
   "id": "cf438266-024b-4347-bc48-d84146b02208",
   "metadata": {},
   "source": [
    "## Summary and Conclusion of Predictive Maintenance Machine Learning Project"
   ]
  },
  {
   "cell_type": "markdown",
   "id": "96fb93ee-9d09-4c1a-a859-88d46daa06a0",
   "metadata": {},
   "source": [
    "### - This project demonstrates the application of machine learning techniques to predictive maintenance using equipment sensor and operational data. The aim was to predict equipment failure or remaining useful life, enabling proactive maintenance scheduling that reduces downtime and cost."
   ]
  },
  {
   "cell_type": "markdown",
   "id": "dbd21638-29d8-4a26-98d6-3605b8a67b61",
   "metadata": {},
   "source": [
    "## Summary:"
   ]
  },
  {
   "cell_type": "markdown",
   "id": "c8f5bcc0-8a8d-4e1c-8ff2-2adb1a88b1de",
   "metadata": {},
   "source": [
    "- The dataset includes machine operational features such as humidity, temperature, age, quantity, and product type, along with target labels indicating failure or mean time to failure.\n",
    "\n",
    "- Data preprocessing involved handling missing values, encoding categorical variables, scaling numeric features, and removing outliers to ensure clean and robust input.\n",
    "\n",
    "- Several machine learning models were trained and evaluated, including Logistic Regression, Random Forest, and Gradient Boosting, using performance metrics like Mean Absolute Error, Mean Squared Error, Root Mean Squared Error, and R-squared.\n",
    "\n",
    "- Cross-validation was used to assess model reliability and generalization.\n",
    "\n",
    "- Feature importance analysis helped identify the most influential variables impacting machine failure prediction.\n",
    "\n",
    "- The Random Forest and Gradient Boosting models were found to perform best, offering accurate and interpretable predictions for scheduled maintenance."
   ]
  },
  {
   "cell_type": "markdown",
   "id": "587d020a-a49c-4ab7-8eea-c4414623417c",
   "metadata": {},
   "source": [
    "## Conclusion:"
   ]
  },
  {
   "cell_type": "markdown",
   "id": "16d89ee9-1e5a-42ae-8125-9dfa6002e29f",
   "metadata": {},
   "source": [
    "- Predictive maintenance using machine learning enables early fault detection, minimizing unexpected equipment breakdowns.\n",
    "\n",
    "- Leveraging real-time sensor data and historical records, the models provide actionable insights that improve operational efficiency and reduce maintenance costs.\n",
    "\n",
    "- Implementing such models can significantly enhance asset reliability and optimize resource allocation.\n",
    "\n",
    "- Future work could involve deploying the model in real-time monitoring systems for continuous prediction, incorporating more complex models or deep learning for further accuracy, and expanding datasets for broader equipment types.\n",
    "\n",
    "- Overall, this project shows the practical benefits of combining machine learning with industrial data to transform traditional reactive maintenance into a proactive, cost-effective process."
   ]
  },
  {
   "cell_type": "code",
   "execution_count": null,
   "id": "dcd0ed07-bf0b-4a98-8330-05333c4ba610",
   "metadata": {},
   "outputs": [],
   "source": []
  }
 ],
 "metadata": {
  "kernelspec": {
   "display_name": "Python 3 (ipykernel)",
   "language": "python",
   "name": "python3"
  },
  "language_info": {
   "codemirror_mode": {
    "name": "ipython",
    "version": 3
   },
   "file_extension": ".py",
   "mimetype": "text/x-python",
   "name": "python",
   "nbconvert_exporter": "python",
   "pygments_lexer": "ipython3",
   "version": "3.12.7"
  }
 },
 "nbformat": 4,
 "nbformat_minor": 5
}
